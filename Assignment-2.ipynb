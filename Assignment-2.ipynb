{
 "cells": [
  {
   "cell_type": "code",
   "execution_count": 1,
   "metadata": {},
   "outputs": [
    {
     "name": "stdout",
     "output_type": "stream",
     "text": [
      "Requirement already satisfied: selenium in c:\\users\\dell\\anaconda3\\lib\\site-packages (3.141.0)\n",
      "Requirement already satisfied: urllib3 in c:\\users\\dell\\anaconda3\\lib\\site-packages (from selenium) (1.25.11)\n"
     ]
    }
   ],
   "source": [
    "!pip install selenium"
   ]
  },
  {
   "cell_type": "code",
   "execution_count": 2,
   "metadata": {},
   "outputs": [],
   "source": [
    "# importing the required libraries\n",
    "import selenium\n",
    "import pandas as pd\n",
    "from selenium import webdriver"
   ]
  },
  {
   "cell_type": "markdown",
   "metadata": {},
   "source": [
    "# Q.1 \"Data Analyst\""
   ]
  },
  {
   "cell_type": "code",
   "execution_count": 4,
   "metadata": {},
   "outputs": [],
   "source": [
    "# lets first connect to the web driver\n",
    "driver=webdriver.Chrome(r\"C:\\Users\\DELL\\Downloads\\chromedriver_win32\\chromedriver.exe\")"
   ]
  },
  {
   "cell_type": "code",
   "execution_count": 5,
   "metadata": {},
   "outputs": [],
   "source": [
    "url='https://www.naukri.com/'\n",
    "driver.get(url)"
   ]
  },
  {
   "cell_type": "code",
   "execution_count": 6,
   "metadata": {},
   "outputs": [
    {
     "data": {
      "text/plain": [
       "<selenium.webdriver.remote.webelement.WebElement (session=\"394a95fd2f0366d132a8daba1a3cd545\", element=\"86bf4004-2224-403a-a766-0f6c7454f8bd\")>"
      ]
     },
     "execution_count": 6,
     "metadata": {},
     "output_type": "execute_result"
    }
   ],
   "source": [
    "search_job=driver.find_element_by_id('qsb-keyword-sugg')\n",
    "search_job"
   ]
  },
  {
   "cell_type": "code",
   "execution_count": 7,
   "metadata": {},
   "outputs": [],
   "source": [
    "search_job.send_keys(\"Data Analyst\")\n"
   ]
  },
  {
   "cell_type": "code",
   "execution_count": 8,
   "metadata": {},
   "outputs": [],
   "source": [
    "#finding element for job location bar\n",
    "search_loc=driver.find_element_by_id(\"qsb-location-sugg\")\n",
    "search_loc.send_keys(\"Bangalore\")"
   ]
  },
  {
   "cell_type": "code",
   "execution_count": 9,
   "metadata": {},
   "outputs": [
    {
     "data": {
      "text/plain": [
       "<selenium.webdriver.remote.webelement.WebElement (session=\"394a95fd2f0366d132a8daba1a3cd545\", element=\"3187ecc4-910a-4517-bc7e-2f602d36b7ec\")>"
      ]
     },
     "execution_count": 9,
     "metadata": {},
     "output_type": "execute_result"
    }
   ],
   "source": [
    "# do click using xpath fuction\n",
    "search_btn=driver.find_element_by_xpath(\"//button[@class='btn']\")\n",
    "search_btn"
   ]
  },
  {
   "cell_type": "code",
   "execution_count": 10,
   "metadata": {},
   "outputs": [],
   "source": [
    "search_btn.click()"
   ]
  },
  {
   "cell_type": "code",
   "execution_count": 22,
   "metadata": {},
   "outputs": [
    {
     "data": {
      "text/html": [
       "<div>\n",
       "<style scoped>\n",
       "    .dataframe tbody tr th:only-of-type {\n",
       "        vertical-align: middle;\n",
       "    }\n",
       "\n",
       "    .dataframe tbody tr th {\n",
       "        vertical-align: top;\n",
       "    }\n",
       "\n",
       "    .dataframe thead th {\n",
       "        text-align: right;\n",
       "    }\n",
       "</style>\n",
       "<table border=\"1\" class=\"dataframe\">\n",
       "  <thead>\n",
       "    <tr style=\"text-align: right;\">\n",
       "      <th></th>\n",
       "      <th>Title</th>\n",
       "      <th>Company</th>\n",
       "      <th>Experience-required</th>\n",
       "      <th>Location</th>\n",
       "    </tr>\n",
       "  </thead>\n",
       "  <tbody>\n",
       "    <tr>\n",
       "      <th>0</th>\n",
       "      <td>Data Scientist</td>\n",
       "      <td>Agreeya</td>\n",
       "      <td>3-6 Yrs</td>\n",
       "      <td>Noida, Gurgaon/Gurugram, Delhi / NCR</td>\n",
       "    </tr>\n",
       "    <tr>\n",
       "      <th>1</th>\n",
       "      <td>Data Scientist Internship</td>\n",
       "      <td>iHackers Inc</td>\n",
       "      <td>0-1 Yrs</td>\n",
       "      <td>New Delhi</td>\n",
       "    </tr>\n",
       "    <tr>\n",
       "      <th>2</th>\n",
       "      <td>Data Scientist</td>\n",
       "      <td>CBRE South Asia Pvt Ltd</td>\n",
       "      <td>2-4 Yrs</td>\n",
       "      <td>Gurgaon/Gurugram</td>\n",
       "    </tr>\n",
       "    <tr>\n",
       "      <th>3</th>\n",
       "      <td>Data Scientist</td>\n",
       "      <td>Experiture</td>\n",
       "      <td>5-7 Yrs</td>\n",
       "      <td>Kolkata, Hyderabad/Secunderabad, Ahmedabad, Ba...</td>\n",
       "    </tr>\n",
       "    <tr>\n",
       "      <th>4</th>\n",
       "      <td>Data Scientist- Image Processing &amp; Computer Vi...</td>\n",
       "      <td>ProtoGene Consulting Private Limited</td>\n",
       "      <td>4-7 Yrs</td>\n",
       "      <td>Delhi / NCR</td>\n",
       "    </tr>\n",
       "    <tr>\n",
       "      <th>5</th>\n",
       "      <td>Senior Data Scientist - Noida</td>\n",
       "      <td>Optum Global Solutions (India) Private Limited</td>\n",
       "      <td>2-6 Yrs</td>\n",
       "      <td>Noida</td>\n",
       "    </tr>\n",
       "    <tr>\n",
       "      <th>6</th>\n",
       "      <td>Data Scientist / Sr. Data Scientist</td>\n",
       "      <td>WEGARNER SOLUTIONS PRIVATE LIMITED</td>\n",
       "      <td>0-5 Yrs</td>\n",
       "      <td>Noida, Pune, Mumbai (All Areas)</td>\n",
       "    </tr>\n",
       "    <tr>\n",
       "      <th>7</th>\n",
       "      <td>Only Fresher / Data Scientist / Data Analyst /...</td>\n",
       "      <td>GABA Consultancy services</td>\n",
       "      <td>0-0 Yrs</td>\n",
       "      <td>Noida, Gurgaon/Gurugram, Delhi / NCR</td>\n",
       "    </tr>\n",
       "    <tr>\n",
       "      <th>8</th>\n",
       "      <td>Immediate Openings For DATA Scientist with 6 T...</td>\n",
       "      <td>Entune IT Consulting Private Limited</td>\n",
       "      <td>5-8 Yrs</td>\n",
       "      <td>Kolkata, Hyderabad/Secunderabad, Pune, Ahmedab...</td>\n",
       "    </tr>\n",
       "    <tr>\n",
       "      <th>9</th>\n",
       "      <td>Data Scientist</td>\n",
       "      <td>R Systems International Ltd.</td>\n",
       "      <td>5-10 Yrs</td>\n",
       "      <td>Noida(Sector-59 Noida)</td>\n",
       "    </tr>\n",
       "  </tbody>\n",
       "</table>\n",
       "</div>"
      ],
      "text/plain": [
       "                                               Title  \\\n",
       "0                                     Data Scientist   \n",
       "1                          Data Scientist Internship   \n",
       "2                                     Data Scientist   \n",
       "3                                     Data Scientist   \n",
       "4  Data Scientist- Image Processing & Computer Vi...   \n",
       "5                      Senior Data Scientist - Noida   \n",
       "6                Data Scientist / Sr. Data Scientist   \n",
       "7  Only Fresher / Data Scientist / Data Analyst /...   \n",
       "8  Immediate Openings For DATA Scientist with 6 T...   \n",
       "9                                     Data Scientist   \n",
       "\n",
       "                                          Company Experience-required  \\\n",
       "0                                         Agreeya             3-6 Yrs   \n",
       "1                                    iHackers Inc             0-1 Yrs   \n",
       "2                         CBRE South Asia Pvt Ltd             2-4 Yrs   \n",
       "3                                      Experiture             5-7 Yrs   \n",
       "4            ProtoGene Consulting Private Limited             4-7 Yrs   \n",
       "5  Optum Global Solutions (India) Private Limited             2-6 Yrs   \n",
       "6              WEGARNER SOLUTIONS PRIVATE LIMITED             0-5 Yrs   \n",
       "7                       GABA Consultancy services             0-0 Yrs   \n",
       "8            Entune IT Consulting Private Limited             5-8 Yrs   \n",
       "9                    R Systems International Ltd.            5-10 Yrs   \n",
       "\n",
       "                                            Location  \n",
       "0               Noida, Gurgaon/Gurugram, Delhi / NCR  \n",
       "1                                          New Delhi  \n",
       "2                                   Gurgaon/Gurugram  \n",
       "3  Kolkata, Hyderabad/Secunderabad, Ahmedabad, Ba...  \n",
       "4                                        Delhi / NCR  \n",
       "5                                              Noida  \n",
       "6                    Noida, Pune, Mumbai (All Areas)  \n",
       "7               Noida, Gurgaon/Gurugram, Delhi / NCR  \n",
       "8  Kolkata, Hyderabad/Secunderabad, Pune, Ahmedab...  \n",
       "9                             Noida(Sector-59 Noida)  "
      ]
     },
     "execution_count": 22,
     "metadata": {},
     "output_type": "execute_result"
    }
   ],
   "source": [
    "# so lets extract all the tags having the job_titles\n",
    "titles_tags=driver.find_elements_by_xpath(\"//a[@class='title fw500 ellipsis']\")\n",
    "titles_tags\n",
    "#so we will run a loop to iterate over the tags extracted above and extract the text inside them.\n",
    "job_titles=[]   #empty list\n",
    "for i in titles_tags:\n",
    "    job_titles.append(i.text)\n",
    "job_titles\n",
    "\n",
    "#so lets extract all the tags having the company names\n",
    "companies_tags=driver.find_elements_by_xpath(\"//a[@class='subTitle ellipsis fleft']\")\n",
    "companies_tags\n",
    "\n",
    "company_names=[]   # empty list\n",
    "for i in companies_tags:\n",
    "    company_names.append(i.text)\n",
    "company_names\n",
    "\n",
    "#so lets extract all the tags having the experience required data\n",
    "experience_tags=driver.find_elements_by_xpath(\"//li[@class='fleft grey-text br2 placeHolderLi experience']//span\")\n",
    "experience_tags\n",
    "\n",
    "experience_list=[]   #empty list\n",
    "for i in experience_tags:\n",
    "    experience_list.append(i.text)\n",
    "experience_list\n",
    "\n",
    "#so lets extract all the tags having the location tags\n",
    "location_tags=driver.find_elements_by_xpath(\"//li[@class='fleft grey-text br2 placeHolderLi location']//span[1]\")\n",
    "location_tags\n",
    "\n",
    "location_list=[]   # empty list\n",
    "for i in location_tags:\n",
    "    location_list.append(i.text)\n",
    "location_list\n",
    "\n",
    "jobs=pd.DataFrame({})\n",
    "jobs['Title']=job_titles\n",
    "jobs['Company']=company_names\n",
    "jobs['Experience-required']=experience_list\n",
    "jobs['Location']=location_list\n",
    "jobs.head(10)"
   ]
  },
  {
   "cell_type": "markdown",
   "metadata": {},
   "source": [
    "# Q.2 \"Data Scientist\""
   ]
  },
  {
   "cell_type": "code",
   "execution_count": 3,
   "metadata": {},
   "outputs": [],
   "source": [
    "driver=webdriver.Chrome(r\"C:\\Users\\DELL\\Downloads\\chromedriver_win32\\chromedriver.exe\")"
   ]
  },
  {
   "cell_type": "code",
   "execution_count": 5,
   "metadata": {},
   "outputs": [],
   "source": [
    "url2='https://www.naukri.com/'\n",
    "driver.get(url2)"
   ]
  },
  {
   "cell_type": "code",
   "execution_count": 6,
   "metadata": {},
   "outputs": [
    {
     "data": {
      "text/plain": [
       "<selenium.webdriver.remote.webelement.WebElement (session=\"f529eb068d3a164c4440ac43a121524d\", element=\"3fb49b30-c6f5-4950-b436-c30b92410a52\")>"
      ]
     },
     "execution_count": 6,
     "metadata": {},
     "output_type": "execute_result"
    }
   ],
   "source": [
    "search_job=driver.find_element_by_id('qsb-keyword-sugg')\n",
    "search_job"
   ]
  },
  {
   "cell_type": "code",
   "execution_count": 7,
   "metadata": {},
   "outputs": [],
   "source": [
    "search_job.send_keys(\"Data Scientist\")"
   ]
  },
  {
   "cell_type": "code",
   "execution_count": 8,
   "metadata": {},
   "outputs": [],
   "source": [
    "search_loc=driver.find_element_by_id(\"qsb-location-sugg\")\n",
    "search_loc.send_keys(\"Bangalore\")"
   ]
  },
  {
   "cell_type": "code",
   "execution_count": 9,
   "metadata": {},
   "outputs": [
    {
     "data": {
      "text/plain": [
       "<selenium.webdriver.remote.webelement.WebElement (session=\"f529eb068d3a164c4440ac43a121524d\", element=\"2fd7b2ab-3c76-4025-a6bd-babe3ca74a2e\")>"
      ]
     },
     "execution_count": 9,
     "metadata": {},
     "output_type": "execute_result"
    }
   ],
   "source": [
    "search_btn=driver.find_element_by_xpath(\"//button[@class='btn']\")\n",
    "search_btn"
   ]
  },
  {
   "cell_type": "code",
   "execution_count": 10,
   "metadata": {},
   "outputs": [],
   "source": [
    "search_btn.click()"
   ]
  },
  {
   "cell_type": "code",
   "execution_count": 11,
   "metadata": {},
   "outputs": [
    {
     "data": {
      "text/html": [
       "<div>\n",
       "<style scoped>\n",
       "    .dataframe tbody tr th:only-of-type {\n",
       "        vertical-align: middle;\n",
       "    }\n",
       "\n",
       "    .dataframe tbody tr th {\n",
       "        vertical-align: top;\n",
       "    }\n",
       "\n",
       "    .dataframe thead th {\n",
       "        text-align: right;\n",
       "    }\n",
       "</style>\n",
       "<table border=\"1\" class=\"dataframe\">\n",
       "  <thead>\n",
       "    <tr style=\"text-align: right;\">\n",
       "      <th></th>\n",
       "      <th>Title</th>\n",
       "      <th>Company</th>\n",
       "      <th>Location</th>\n",
       "      <th>job-description</th>\n",
       "    </tr>\n",
       "  </thead>\n",
       "  <tbody>\n",
       "    <tr>\n",
       "      <th>0</th>\n",
       "      <td>Data Scientist- Senior Business Analyst/Lead A...</td>\n",
       "      <td>Evalueserve.com Pvt. Ltd</td>\n",
       "      <td>Gurgaon/Gurugram, Bangalore/Bengaluru</td>\n",
       "      <td>from a reputed institute Experience with cloud...</td>\n",
       "    </tr>\n",
       "    <tr>\n",
       "      <th>1</th>\n",
       "      <td>Senior Data Scientist</td>\n",
       "      <td>Signify</td>\n",
       "      <td>Bangalore/Bengaluru</td>\n",
       "      <td>PhD / Masters / BTech in computer science, com...</td>\n",
       "    </tr>\n",
       "    <tr>\n",
       "      <th>2</th>\n",
       "      <td>Senior Data Scientist (Analytics),</td>\n",
       "      <td>Luxoft</td>\n",
       "      <td>Bangalore/Bengaluru</td>\n",
       "      <td>Data and Analytics Proposal Responses for Cros...</td>\n",
       "    </tr>\n",
       "    <tr>\n",
       "      <th>3</th>\n",
       "      <td>Data Scientist: Advanced Analytics</td>\n",
       "      <td>IBM India Pvt. Limited</td>\n",
       "      <td>Bangalore/Bengaluru</td>\n",
       "      <td>As a Data Scientist at IBM, you will help tran...</td>\n",
       "    </tr>\n",
       "    <tr>\n",
       "      <th>4</th>\n",
       "      <td>Data Scientist</td>\n",
       "      <td>IBM India Pvt. Limited</td>\n",
       "      <td>Bangalore/Bengaluru</td>\n",
       "      <td>Experience in creating and using advanced mach...</td>\n",
       "    </tr>\n",
       "    <tr>\n",
       "      <th>5</th>\n",
       "      <td>Senior Data Scientist</td>\n",
       "      <td>SMITHS DETECTION SYSTEMS PRIVATE LIMITED</td>\n",
       "      <td>Bangalore/Bengaluru</td>\n",
       "      <td>Must possess at least a Bachelors degree in El...</td>\n",
       "    </tr>\n",
       "    <tr>\n",
       "      <th>6</th>\n",
       "      <td>Lead Data Scientist</td>\n",
       "      <td>TransOrg Solutions Services (P) Ltd.</td>\n",
       "      <td>Bangalore/Bengaluru, Delhi / NCR, Mumbai (All ...</td>\n",
       "      <td>Bachelors in Computer Science, Engineering, St...</td>\n",
       "    </tr>\n",
       "    <tr>\n",
       "      <th>7</th>\n",
       "      <td>Senior Data Scientist</td>\n",
       "      <td>Philips India Limited</td>\n",
       "      <td>Bangalore/Bengaluru</td>\n",
       "      <td>A Master s Degree or PhD in Computer Science, ...</td>\n",
       "    </tr>\n",
       "    <tr>\n",
       "      <th>8</th>\n",
       "      <td>Senior Data Scientist - KPO</td>\n",
       "      <td>TalentCo Search Pvt Ltd</td>\n",
       "      <td>Mumbai, Bangalore/Bengaluru, Delhi / NCR</td>\n",
       "      <td>Experience of working on end-to-end data scien...</td>\n",
       "    </tr>\n",
       "    <tr>\n",
       "      <th>9</th>\n",
       "      <td>Senior Data Scientist</td>\n",
       "      <td>TalentCo Search Pvt Ltd</td>\n",
       "      <td>Mumbai, Delhi / NCR, Bangalore/Bengaluru</td>\n",
       "      <td>Experience of working on end-to-end data scien...</td>\n",
       "    </tr>\n",
       "  </tbody>\n",
       "</table>\n",
       "</div>"
      ],
      "text/plain": [
       "                                               Title  \\\n",
       "0  Data Scientist- Senior Business Analyst/Lead A...   \n",
       "1                              Senior Data Scientist   \n",
       "2                 Senior Data Scientist (Analytics),   \n",
       "3                 Data Scientist: Advanced Analytics   \n",
       "4                                     Data Scientist   \n",
       "5                              Senior Data Scientist   \n",
       "6                                Lead Data Scientist   \n",
       "7                              Senior Data Scientist   \n",
       "8                        Senior Data Scientist - KPO   \n",
       "9                              Senior Data Scientist   \n",
       "\n",
       "                                    Company  \\\n",
       "0                  Evalueserve.com Pvt. Ltd   \n",
       "1                                   Signify   \n",
       "2                                    Luxoft   \n",
       "3                    IBM India Pvt. Limited   \n",
       "4                    IBM India Pvt. Limited   \n",
       "5  SMITHS DETECTION SYSTEMS PRIVATE LIMITED   \n",
       "6      TransOrg Solutions Services (P) Ltd.   \n",
       "7                     Philips India Limited   \n",
       "8                   TalentCo Search Pvt Ltd   \n",
       "9                   TalentCo Search Pvt Ltd   \n",
       "\n",
       "                                            Location  \\\n",
       "0              Gurgaon/Gurugram, Bangalore/Bengaluru   \n",
       "1                                Bangalore/Bengaluru   \n",
       "2                                Bangalore/Bengaluru   \n",
       "3                                Bangalore/Bengaluru   \n",
       "4                                Bangalore/Bengaluru   \n",
       "5                                Bangalore/Bengaluru   \n",
       "6  Bangalore/Bengaluru, Delhi / NCR, Mumbai (All ...   \n",
       "7                                Bangalore/Bengaluru   \n",
       "8           Mumbai, Bangalore/Bengaluru, Delhi / NCR   \n",
       "9           Mumbai, Delhi / NCR, Bangalore/Bengaluru   \n",
       "\n",
       "                                     job-description  \n",
       "0  from a reputed institute Experience with cloud...  \n",
       "1  PhD / Masters / BTech in computer science, com...  \n",
       "2  Data and Analytics Proposal Responses for Cros...  \n",
       "3  As a Data Scientist at IBM, you will help tran...  \n",
       "4  Experience in creating and using advanced mach...  \n",
       "5  Must possess at least a Bachelors degree in El...  \n",
       "6  Bachelors in Computer Science, Engineering, St...  \n",
       "7  A Master s Degree or PhD in Computer Science, ...  \n",
       "8  Experience of working on end-to-end data scien...  \n",
       "9  Experience of working on end-to-end data scien...  "
      ]
     },
     "execution_count": 11,
     "metadata": {},
     "output_type": "execute_result"
    }
   ],
   "source": [
    "# so lets extract all the tags having the job_titles\n",
    "titles_tags=driver.find_elements_by_xpath(\"//a[@class='title fw500 ellipsis']\")\n",
    "titles_tags\n",
    "#so we will run a loop to iterate over the tags extracted above and extract the text inside them.\n",
    "job_titles=[]   #empty list\n",
    "for i in titles_tags:\n",
    "    job_titles.append(i.text)\n",
    "job_titles\n",
    "\n",
    "#so lets extract all the tags having the company names\n",
    "companies_tags=driver.find_elements_by_xpath(\"//a[@class='subTitle ellipsis fleft']\")\n",
    "companies_tags\n",
    "\n",
    "company_names=[]  # empty list\n",
    "for i in companies_tags:\n",
    "    company_names.append(i.text)\n",
    "company_names\n",
    "\n",
    "\n",
    "#so lets extract all the tags having the location tags\n",
    "location_tags=driver.find_elements_by_xpath(\"//li[@class='fleft grey-text br2 placeHolderLi location']//span[1]\")\n",
    "location_tags\n",
    "\n",
    "location_list=[]   # empty list\n",
    "for i in location_tags:\n",
    "    location_list.append(i.text)\n",
    "location_list\n",
    "\n",
    "# so lets extract all the tags having the full job-description\n",
    "job_tags=driver.find_elements_by_xpath(\"//div[@class='job-description fs12 grey-text']\")\n",
    "job_tags\n",
    "\n",
    "job_list=[]   # empty list\n",
    "for i in job_tags:\n",
    "    job_list.append(i.text)\n",
    "job_list    \n",
    "\n",
    "jobs=pd.DataFrame({})\n",
    "jobs['Title']=job_titles\n",
    "jobs['Company']=company_names\n",
    "jobs['Location']=location_list\n",
    "jobs['job-description']=job_list\n",
    "jobs.head(10)"
   ]
  },
  {
   "cell_type": "markdown",
   "metadata": {},
   "source": [
    "# Q.3 Scrape data using the filters(\"Data Scientist\")"
   ]
  },
  {
   "cell_type": "code",
   "execution_count": 12,
   "metadata": {},
   "outputs": [],
   "source": [
    "driver=webdriver.Chrome(r\"C:\\Users\\DELL\\Downloads\\chromedriver_win32\\chromedriver.exe\")"
   ]
  },
  {
   "cell_type": "code",
   "execution_count": 13,
   "metadata": {},
   "outputs": [],
   "source": [
    "url3='https://www.naukri.com/'\n",
    "driver.get(url3)"
   ]
  },
  {
   "cell_type": "code",
   "execution_count": 14,
   "metadata": {},
   "outputs": [
    {
     "data": {
      "text/plain": [
       "<selenium.webdriver.remote.webelement.WebElement (session=\"d2f3d8966f7a1e14bdbadf0e2d06b278\", element=\"21999490-1854-44fc-ace2-0ccac09946f5\")>"
      ]
     },
     "execution_count": 14,
     "metadata": {},
     "output_type": "execute_result"
    }
   ],
   "source": [
    "search_job=driver.find_element_by_id('qsb-keyword-sugg')\n",
    "search_job"
   ]
  },
  {
   "cell_type": "code",
   "execution_count": 15,
   "metadata": {},
   "outputs": [],
   "source": [
    "search_job.send_keys(\"Data Scientist\")"
   ]
  },
  {
   "cell_type": "code",
   "execution_count": 16,
   "metadata": {},
   "outputs": [],
   "source": [
    "search_loc=driver.find_element_by_id(\"qsb-location-sugg\")\n",
    "search_loc.send_keys(\"Delhi/NCR\")"
   ]
  },
  {
   "cell_type": "code",
   "execution_count": 17,
   "metadata": {},
   "outputs": [
    {
     "data": {
      "text/plain": [
       "<selenium.webdriver.remote.webelement.WebElement (session=\"d2f3d8966f7a1e14bdbadf0e2d06b278\", element=\"31586f28-20b5-44e4-b3a0-3b1c596877a1\")>"
      ]
     },
     "execution_count": 17,
     "metadata": {},
     "output_type": "execute_result"
    }
   ],
   "source": [
    "search_btn=driver.find_element_by_xpath(\"//button[@class='btn']\")\n",
    "search_btn"
   ]
  },
  {
   "cell_type": "code",
   "execution_count": 18,
   "metadata": {},
   "outputs": [],
   "source": [
    "search_btn.click()"
   ]
  },
  {
   "cell_type": "code",
   "execution_count": 20,
   "metadata": {},
   "outputs": [],
   "source": [
    "location_filter=driver.find_element_by_xpath('/html/body/div[1]/div[3]/div[2]/section[1]/div[2]/div[1]/div[2]/div[2]/label/p/span[1]')\n",
    "location_filter.click()"
   ]
  },
  {
   "cell_type": "code",
   "execution_count": 21,
   "metadata": {},
   "outputs": [],
   "source": [
    "salary_filter=driver.find_element_by_xpath('/html/body/div[1]/div[3]/div[2]/section[1]/div[2]/div[4]/div[2]/div[2]/label/p/span[1]')\n",
    "salary_filter.click()"
   ]
  },
  {
   "cell_type": "code",
   "execution_count": 23,
   "metadata": {},
   "outputs": [
    {
     "data": {
      "text/html": [
       "<div>\n",
       "<style scoped>\n",
       "    .dataframe tbody tr th:only-of-type {\n",
       "        vertical-align: middle;\n",
       "    }\n",
       "\n",
       "    .dataframe tbody tr th {\n",
       "        vertical-align: top;\n",
       "    }\n",
       "\n",
       "    .dataframe thead th {\n",
       "        text-align: right;\n",
       "    }\n",
       "</style>\n",
       "<table border=\"1\" class=\"dataframe\">\n",
       "  <thead>\n",
       "    <tr style=\"text-align: right;\">\n",
       "      <th></th>\n",
       "      <th>Title</th>\n",
       "      <th>Company</th>\n",
       "      <th>Experience-required</th>\n",
       "      <th>Location</th>\n",
       "    </tr>\n",
       "  </thead>\n",
       "  <tbody>\n",
       "    <tr>\n",
       "      <th>0</th>\n",
       "      <td>Data Scientist</td>\n",
       "      <td>Agreeya</td>\n",
       "      <td>3-6 Yrs</td>\n",
       "      <td>Noida, Gurgaon/Gurugram, Delhi / NCR</td>\n",
       "    </tr>\n",
       "    <tr>\n",
       "      <th>1</th>\n",
       "      <td>Data Scientist Internship</td>\n",
       "      <td>iHackers Inc</td>\n",
       "      <td>0-1 Yrs</td>\n",
       "      <td>New Delhi</td>\n",
       "    </tr>\n",
       "    <tr>\n",
       "      <th>2</th>\n",
       "      <td>Data Scientist</td>\n",
       "      <td>CBRE South Asia Pvt Ltd</td>\n",
       "      <td>2-4 Yrs</td>\n",
       "      <td>Gurgaon/Gurugram</td>\n",
       "    </tr>\n",
       "    <tr>\n",
       "      <th>3</th>\n",
       "      <td>Data Scientist</td>\n",
       "      <td>Experiture</td>\n",
       "      <td>5-7 Yrs</td>\n",
       "      <td>Kolkata, Hyderabad/Secunderabad, Ahmedabad, Ba...</td>\n",
       "    </tr>\n",
       "    <tr>\n",
       "      <th>4</th>\n",
       "      <td>Data Scientist- Image Processing &amp; Computer Vi...</td>\n",
       "      <td>ProtoGene Consulting Private Limited</td>\n",
       "      <td>4-7 Yrs</td>\n",
       "      <td>Delhi / NCR</td>\n",
       "    </tr>\n",
       "    <tr>\n",
       "      <th>5</th>\n",
       "      <td>Senior Data Scientist - Noida</td>\n",
       "      <td>Optum Global Solutions (India) Private Limited</td>\n",
       "      <td>2-6 Yrs</td>\n",
       "      <td>Noida</td>\n",
       "    </tr>\n",
       "    <tr>\n",
       "      <th>6</th>\n",
       "      <td>Data Scientist / Sr. Data Scientist</td>\n",
       "      <td>WEGARNER SOLUTIONS PRIVATE LIMITED</td>\n",
       "      <td>0-5 Yrs</td>\n",
       "      <td>Noida, Pune, Mumbai (All Areas)</td>\n",
       "    </tr>\n",
       "    <tr>\n",
       "      <th>7</th>\n",
       "      <td>Only Fresher / Data Scientist / Data Analyst /...</td>\n",
       "      <td>GABA Consultancy services</td>\n",
       "      <td>0-0 Yrs</td>\n",
       "      <td>Noida, Gurgaon/Gurugram, Delhi / NCR</td>\n",
       "    </tr>\n",
       "    <tr>\n",
       "      <th>8</th>\n",
       "      <td>Immediate Openings For DATA Scientist with 6 T...</td>\n",
       "      <td>Entune IT Consulting Private Limited</td>\n",
       "      <td>5-8 Yrs</td>\n",
       "      <td>Kolkata, Hyderabad/Secunderabad, Pune, Ahmedab...</td>\n",
       "    </tr>\n",
       "    <tr>\n",
       "      <th>9</th>\n",
       "      <td>Data Scientist</td>\n",
       "      <td>R Systems International Ltd.</td>\n",
       "      <td>5-10 Yrs</td>\n",
       "      <td>Noida(Sector-59 Noida)</td>\n",
       "    </tr>\n",
       "  </tbody>\n",
       "</table>\n",
       "</div>"
      ],
      "text/plain": [
       "                                               Title  \\\n",
       "0                                     Data Scientist   \n",
       "1                          Data Scientist Internship   \n",
       "2                                     Data Scientist   \n",
       "3                                     Data Scientist   \n",
       "4  Data Scientist- Image Processing & Computer Vi...   \n",
       "5                      Senior Data Scientist - Noida   \n",
       "6                Data Scientist / Sr. Data Scientist   \n",
       "7  Only Fresher / Data Scientist / Data Analyst /...   \n",
       "8  Immediate Openings For DATA Scientist with 6 T...   \n",
       "9                                     Data Scientist   \n",
       "\n",
       "                                          Company Experience-required  \\\n",
       "0                                         Agreeya             3-6 Yrs   \n",
       "1                                    iHackers Inc             0-1 Yrs   \n",
       "2                         CBRE South Asia Pvt Ltd             2-4 Yrs   \n",
       "3                                      Experiture             5-7 Yrs   \n",
       "4            ProtoGene Consulting Private Limited             4-7 Yrs   \n",
       "5  Optum Global Solutions (India) Private Limited             2-6 Yrs   \n",
       "6              WEGARNER SOLUTIONS PRIVATE LIMITED             0-5 Yrs   \n",
       "7                       GABA Consultancy services             0-0 Yrs   \n",
       "8            Entune IT Consulting Private Limited             5-8 Yrs   \n",
       "9                    R Systems International Ltd.            5-10 Yrs   \n",
       "\n",
       "                                            Location  \n",
       "0               Noida, Gurgaon/Gurugram, Delhi / NCR  \n",
       "1                                          New Delhi  \n",
       "2                                   Gurgaon/Gurugram  \n",
       "3  Kolkata, Hyderabad/Secunderabad, Ahmedabad, Ba...  \n",
       "4                                        Delhi / NCR  \n",
       "5                                              Noida  \n",
       "6                    Noida, Pune, Mumbai (All Areas)  \n",
       "7               Noida, Gurgaon/Gurugram, Delhi / NCR  \n",
       "8  Kolkata, Hyderabad/Secunderabad, Pune, Ahmedab...  \n",
       "9                             Noida(Sector-59 Noida)  "
      ]
     },
     "execution_count": 23,
     "metadata": {},
     "output_type": "execute_result"
    }
   ],
   "source": [
    "# so lets extract all the tags having the job_titles\n",
    "titles_tags=driver.find_elements_by_xpath(\"//a[@class='title fw500 ellipsis']\")\n",
    "titles_tags\n",
    "#so we will run a loop to iterate over the tags extracted above and extract the text inside them.\n",
    "job_titles=[]   #empty list\n",
    "for i in titles_tags:\n",
    "    job_titles.append(i.text)\n",
    "job_titles\n",
    "\n",
    "\n",
    "\n",
    "#so lets extract all the tags having the location tags\n",
    "location_tags=driver.find_elements_by_xpath(\"//li[@class='fleft grey-text br2 placeHolderLi location']//span[1]\")\n",
    "location_tags\n",
    "\n",
    "location_list=[]   # empty list\n",
    "for i in location_tags:\n",
    "    location_list.append(i.text)\n",
    "location_list\n",
    "\n",
    "\n",
    "#so lets extract all the tags having the company names\n",
    "companies_tags=driver.find_elements_by_xpath(\"//a[@class='subTitle ellipsis fleft']\")\n",
    "companies_tags\n",
    "\n",
    "company_names=[]   # empty list\n",
    "for i in companies_tags:\n",
    "    company_names.append(i.text)\n",
    "company_names\n",
    "\n",
    "\n",
    "#so lets extract all the tags having the experience required data\n",
    "experience_tags=driver.find_elements_by_xpath(\"//li[@class='fleft grey-text br2 placeHolderLi experience']//span\")\n",
    "experience_tags\n",
    "\n",
    "experience_list=[]   #empty list\n",
    "for i in experience_tags:\n",
    "    experience_list.append(i.text)\n",
    "experience_list\n",
    "\n",
    "\n",
    "\n",
    "\n",
    "\n",
    "jobs=pd.DataFrame({})\n",
    "jobs['Title']=job_titles\n",
    "jobs['Company']=company_names\n",
    "jobs['Experience-required']=experience_list\n",
    "jobs['Location']=location_list\n",
    "jobs.head(10)"
   ]
  },
  {
   "cell_type": "code",
   "execution_count": null,
   "metadata": {},
   "outputs": [],
   "source": []
  }
 ],
 "metadata": {
  "kernelspec": {
   "display_name": "Python 3",
   "language": "python",
   "name": "python3"
  },
  "language_info": {
   "codemirror_mode": {
    "name": "ipython",
    "version": 3
   },
   "file_extension": ".py",
   "mimetype": "text/x-python",
   "name": "python",
   "nbconvert_exporter": "python",
   "pygments_lexer": "ipython3",
   "version": "3.8.5"
  }
 },
 "nbformat": 4,
 "nbformat_minor": 4
}
